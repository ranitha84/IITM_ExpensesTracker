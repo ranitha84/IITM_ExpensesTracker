{
 "cells": [
  {
   "cell_type": "markdown",
   "id": "13a5a7ca-2165-48ee-9dec-d29b61a421ef",
   "metadata": {},
   "source": [
    "# Add an expense:\n",
    "    1. Create a function to prompt the user for expense details. Ensure you ask for:\n",
    "       - The date of the expense in the format YYYY-MM-DD\n",
    "       - The category of the expense, such as Food or Travel\n",
    "       - The amount spent\n",
    "       - A brief description of the expense\n",
    "    2. Store the expense in a list as a dictionary, where each dictionary includes the date, category, amount, and description as key-value pairs\n",
    "        - Example:\n",
    "            {'date': '2024-09-18', 'category': 'Food', 'amount': 15.50, 'description': 'Lunch with friends'}"
   ]
  },
  {
   "cell_type": "code",
   "execution_count": 1,
   "id": "af0bdf7b-8e19-4a43-afe8-51d3c1a27603",
   "metadata": {},
   "outputs": [],
   "source": [
    "global expenses\n",
    "expenses = []\n",
    "global budget\n",
    "budget=0\n",
    "total_expenses =0"
   ]
  },
  {
   "cell_type": "code",
   "execution_count": 2,
   "id": "70979839-a199-48b1-9d37-2f064c98b26f",
   "metadata": {},
   "outputs": [],
   "source": [
    "def add_expenses():\n",
    "    try:\n",
    "        date = input(\"Enter the date of the expense (YYYY-MM-DD): \")\n",
    "        category = input(\"Enter the category of the expense: \")\n",
    "        amount = float(input(\"Enter the amount spent: \"))\n",
    "        description = input(\"Enter a brief description of the expense: \")\n",
    "        expense = {\n",
    "            \"date\": date,\n",
    "            \"category\": category,\n",
    "            \"amount\": amount,\n",
    "            \"description\":description\n",
    "        }\n",
    "        expenses.append(expense)\n",
    "    except ValueError:\n",
    "         print(\"Invalid input. Please enter a numerical value for the budget.\")"
   ]
  },
  {
   "cell_type": "markdown",
   "id": "fdcdcb4e-e4da-4784-8535-a5dadfb53358",
   "metadata": {},
   "source": [
    "# View expenses:\n",
    "    • Write a function to retrieve and display all stored expenses\n",
    "        o Ensure the function loops through the list of expenses and displays the date, category, amount, and description for each entry\n",
    "    • Validate the data before displaying it\n",
    "        o If any required details (date, category, amount, or description) are missing, skip the entry or notify the user that it’s incomplete"
   ]
  },
  {
   "cell_type": "code",
   "execution_count": 3,
   "id": "57f1bc43-f9d6-4acb-8330-587a76fa68d1",
   "metadata": {},
   "outputs": [],
   "source": [
    "def view_expenses():\n",
    "    if not expenses:\n",
    "        print(\"Expenses Not Recorded\")\n",
    "        return\n",
    "    for i,expense  in enumerate(expenses):\n",
    "        # Validate required details\n",
    "        if not all(key in expense and expense[key] for key in ['date', 'category', 'amount', 'description']):\n",
    "              print(f\"Skipping incomplete expense entry {i+1}.\")\n",
    "              continue\n",
    "\n",
    "        print(f\"\\nExpense {i+1}:\")\n",
    "        print(f\"  Date: {expense['date']}\")\n",
    "        print(f\"  Category: {expense['category']}\")\n",
    "        print(f\"  Amount: {expense['amount']:.2f}\")\n",
    "        print(f\"  Description: {expense['description']}\")\n",
    "        print(\"\\n--------------------\")"
   ]
  },
  {
   "cell_type": "markdown",
   "id": "b23f229f-4946-4b15-891d-5947000f4c3d",
   "metadata": {},
   "source": [
    "# Set and track the budget:\n",
    "    • Create a function that allows the user to input a monthly budget. Prompt the user to:\n",
    "        o Enter the total amount they want to budget for the month\n",
    "    • Create another function that calculates the total expenses recorded so far\n",
    "        o Compare the total with the user’s monthly budget\n",
    "        o If the total expenses exceed the budget, display a warning (Example: You have exceeded your budget!)\n",
    "        o If the expenses are within the budget, display the remaining balance (Example: You have 150 left for the month)"
   ]
  },
  {
   "cell_type": "code",
   "execution_count": 4,
   "id": "c9f8f581-80b8-45f7-81ed-8bb9efff50eb",
   "metadata": {},
   "outputs": [],
   "source": [
    "def set_budget():\n",
    "    try:\n",
    "      budget = float(input(\"Enter your monthly budget: \"))\n",
    "      if budget < 0:\n",
    "        print(\"Budget cannot be negative. Please try again\")\n",
    "      else:\n",
    "        return budget\n",
    "    except ValueError:\n",
    "      print(\"Invalid input. Please enter a numerical value for the budget.\")\n",
    "\n",
    "\n",
    "def track_budget():\n",
    "    total = sum(expense[\"amount\"] for expense in expenses if 'amount' in expense)\n",
    "    \n",
    "    if total > budget:\n",
    "        print(f\"You have exceeded your budget!. Total Expenses incurred is {total}\")\n",
    "    else:\n",
    "        remaining_balance = budget-total\n",
    "        print(f\"You have {remaining_balance} left for this month\")    \n",
    "        "
   ]
  },
  {
   "cell_type": "markdown",
   "id": "75414bc4-4930-4bd5-aabe-02bf867f2114",
   "metadata": {},
   "source": [
    "# Save and load expenses:\n",
    "    • Implement a function to save all expenses to a CSV file, with each row containing the date, category, amount, and description of each expense\n",
    "    • Create another function to load expenses from the CSV file. When the program starts, it should:\n",
    "        o Read the saved data from the file\n",
    "        o Load it back into the list of expenses so the user can see their previous expenses and continue from where they left off"
   ]
  },
  {
   "cell_type": "code",
   "execution_count": 5,
   "id": "46ca1895-0360-4cd5-ab5d-af4261d3be42",
   "metadata": {},
   "outputs": [],
   "source": [
    "import csv\n",
    "import os\n",
    "\n",
    "def save_expenses(filename=\"expenses.csv\"):\n",
    "  \"\"\"Saves all expenses to a CSV file.\n",
    "\n",
    "  Args:\n",
    "    expenses: A list of expense dictionaries.\n",
    "    filename: The name of the CSV file to save to.\n",
    "  \"\"\"\n",
    "  with open(filename, 'w', newline='') as csvfile:\n",
    "    fieldnames = ['date', 'category', 'amount', 'description']\n",
    "    writer = csv.DictWriter(csvfile, fieldnames=fieldnames)\n",
    "\n",
    "    writer.writeheader()\n",
    "    for expense in expenses:\n",
    "      writer.writerow(expense)\n",
    "  print(f\"Expenses saved to {filename}\")\n",
    "\n",
    "\n",
    "def load_expenses(filename=\"expenses.csv\"):\n",
    "  \"\"\"Loads expenses from a CSV file.\n",
    "\n",
    "  Args:\n",
    "    filename: The name of the CSV file to load from.\n",
    "\n",
    "  Returns:\n",
    "    A list of expense dictionaries.\n",
    "  \"\"\"\n",
    "  expenses = []\n",
    "  if os.path.exists(filename):\n",
    "    with open(filename, 'r', newline='') as csvfile:\n",
    "      reader = csv.DictReader(csvfile)\n",
    "      for row in reader:\n",
    "        # Convert amount back to float\n",
    "        row['amount'] = float(row['amount'])\n",
    "        expenses.append(row)\n",
    "    print(f\"Expenses loaded from {filename}\")\n",
    "  else:\n",
    "    print(f\"No expense file found at {filename}. Starting with an empty list.\")\n",
    "  return expenses\n",
    "        \n"
   ]
  },
  {
   "cell_type": "markdown",
   "id": "684d1bf3-efe5-48e8-9227-0b1e6c056cb6",
   "metadata": {},
   "source": [
    "# Create an interactive menu:\n",
    "    • Build a function to display a menu with the following options:\n",
    "        o Add expense\n",
    "        o View expenses\n",
    "        o Track budget\n",
    "        o Save expenses\n",
    "        o Exit\n",
    "    • Allow the user to enter a number to choose an option\n",
    "    • Implement the following conditions:\n",
    "        o If the user selects option 1, call the function to add an expense\n",
    "        o If the user selects option 2, call the function to view expenses\n",
    "        o If the user selects option 3, call the function to track the budget\n",
    "        o If the user selects option 4, call the function to save expenses to the file\n",
    "        o If the user selects option 5, save the expenses and exit the program"
   ]
  },
  {
   "cell_type": "code",
   "execution_count": 6,
   "id": "a25b37f7-f422-473f-823c-ddf04d460183",
   "metadata": {},
   "outputs": [],
   "source": [
    "def display_menu():\n",
    "  \"\"\"Displays the interactive menu options.\"\"\"\n",
    "  print(\"\\n--- Expense Tracker Menu ---\")\n",
    "  print(\"1. Add expense\")\n",
    "  print(\"2. View expenses\")\n",
    "  print(\"3. Track budget\")\n",
    "  print(\"4. Save expenses\")\n",
    "  print(\"5. Exit\")\n",
    "  print(\"--------------------------\")\n",
    "\n",
    "\n",
    "def expenses_tracker():\n",
    "    global budget\n",
    "    global expenses\n",
    "    budget = set_budget()\n",
    "    file_name = input(\"Enter filename\")\n",
    "    expenses = load_expenses(file_name)\n",
    "    while True:\n",
    "        display_menu()\n",
    "        menu_option = int(input(\"Enter the menu option of your choice \\n\"))\n",
    "        if menu_option == 1:\n",
    "            add_expenses()\n",
    "        elif menu_option == 2:\n",
    "            view_expenses()\n",
    "        elif menu_option == 3:\n",
    "            track_budget()\n",
    "        elif menu_option == 4:\n",
    "            file_name = input(\"Enter the file path of your expenses file 'Full File Path of csv'\")\n",
    "            save_expenses(file_name)\n",
    "        else:\n",
    "            break\n",
    "            \n",
    "    "
   ]
  },
  {
   "cell_type": "code",
   "execution_count": null,
   "id": "eb55a7af-598f-40a5-a8b0-8b78c5a68f27",
   "metadata": {},
   "outputs": [
    {
     "name": "stdin",
     "output_type": "stream",
     "text": [
      "Enter your monthly budget:  3000\n",
      "Enter filename expenses.csv\n"
     ]
    },
    {
     "name": "stdout",
     "output_type": "stream",
     "text": [
      "Expenses loaded from expenses.csv\n",
      "\n",
      "--- Expense Tracker Menu ---\n",
      "1. Add expense\n",
      "2. View expenses\n",
      "3. Track budget\n",
      "4. Save expenses\n",
      "5. Exit\n",
      "--------------------------\n"
     ]
    },
    {
     "name": "stdin",
     "output_type": "stream",
     "text": [
      "Enter the menu option of your choice \n",
      " 3\n"
     ]
    },
    {
     "name": "stdout",
     "output_type": "stream",
     "text": [
      "You have 2900.0 left for this month\n",
      "\n",
      "--- Expense Tracker Menu ---\n",
      "1. Add expense\n",
      "2. View expenses\n",
      "3. Track budget\n",
      "4. Save expenses\n",
      "5. Exit\n",
      "--------------------------\n"
     ]
    },
    {
     "name": "stdin",
     "output_type": "stream",
     "text": [
      "Enter the menu option of your choice \n",
      " 2\n"
     ]
    },
    {
     "name": "stdout",
     "output_type": "stream",
     "text": [
      "\n",
      "Expense 1:\n",
      "  Date: 2026-10-02\n",
      "  Category: Hotek\n",
      "  Amount: 100.00\n",
      "  Description: Hotel\n",
      "\n",
      "--------------------\n",
      "\n",
      "--- Expense Tracker Menu ---\n",
      "1. Add expense\n",
      "2. View expenses\n",
      "3. Track budget\n",
      "4. Save expenses\n",
      "5. Exit\n",
      "--------------------------\n"
     ]
    },
    {
     "name": "stdin",
     "output_type": "stream",
     "text": [
      "Enter the menu option of your choice \n",
      " 1\n",
      "Enter the date of the expense (YYYY-MM-DD):  2026-10-04\n",
      "Enter the category of the expense:  Groceries\n",
      "Enter the amount spent:  500\n",
      "Enter a brief description of the expense:  Groceries for the week\n"
     ]
    },
    {
     "name": "stdout",
     "output_type": "stream",
     "text": [
      "\n",
      "--- Expense Tracker Menu ---\n",
      "1. Add expense\n",
      "2. View expenses\n",
      "3. Track budget\n",
      "4. Save expenses\n",
      "5. Exit\n",
      "--------------------------\n"
     ]
    },
    {
     "name": "stdin",
     "output_type": "stream",
     "text": [
      "Enter the menu option of your choice \n",
      " 4\n",
      "Enter the file path of your expenses file 'Full File Path of csv' expenses.csv\n"
     ]
    },
    {
     "name": "stdout",
     "output_type": "stream",
     "text": [
      "Expenses saved to expenses.csv\n",
      "\n",
      "--- Expense Tracker Menu ---\n",
      "1. Add expense\n",
      "2. View expenses\n",
      "3. Track budget\n",
      "4. Save expenses\n",
      "5. Exit\n",
      "--------------------------\n"
     ]
    },
    {
     "name": "stdin",
     "output_type": "stream",
     "text": [
      "Enter the menu option of your choice \n",
      " 2\n"
     ]
    },
    {
     "name": "stdout",
     "output_type": "stream",
     "text": [
      "\n",
      "Expense 1:\n",
      "  Date: 2026-10-02\n",
      "  Category: Hotek\n",
      "  Amount: 100.00\n",
      "  Description: Hotel\n",
      "\n",
      "--------------------\n",
      "\n",
      "Expense 2:\n",
      "  Date: 2026-10-04\n",
      "  Category: Groceries\n",
      "  Amount: 500.00\n",
      "  Description: Groceries for the week\n",
      "\n",
      "--------------------\n",
      "\n",
      "--- Expense Tracker Menu ---\n",
      "1. Add expense\n",
      "2. View expenses\n",
      "3. Track budget\n",
      "4. Save expenses\n",
      "5. Exit\n",
      "--------------------------\n"
     ]
    },
    {
     "name": "stdin",
     "output_type": "stream",
     "text": [
      "Enter the menu option of your choice \n",
      " 3\n"
     ]
    },
    {
     "name": "stdout",
     "output_type": "stream",
     "text": [
      "You have 2400.0 left for this month\n",
      "\n",
      "--- Expense Tracker Menu ---\n",
      "1. Add expense\n",
      "2. View expenses\n",
      "3. Track budget\n",
      "4. Save expenses\n",
      "5. Exit\n",
      "--------------------------\n"
     ]
    }
   ],
   "source": [
    "if __name__ == \"__main__\":\n",
    "  expenses_tracker()"
   ]
  },
  {
   "cell_type": "code",
   "execution_count": null,
   "id": "ddff00f2-a617-4f46-a93a-bec32a542d96",
   "metadata": {},
   "outputs": [],
   "source": []
  }
 ],
 "metadata": {
  "kernelspec": {
   "display_name": "Python 3 (ipykernel)",
   "language": "python",
   "name": "python3"
  },
  "language_info": {
   "codemirror_mode": {
    "name": "ipython",
    "version": 3
   },
   "file_extension": ".py",
   "mimetype": "text/x-python",
   "name": "python",
   "nbconvert_exporter": "python",
   "pygments_lexer": "ipython3",
   "version": "3.13.0"
  }
 },
 "nbformat": 4,
 "nbformat_minor": 5
}
